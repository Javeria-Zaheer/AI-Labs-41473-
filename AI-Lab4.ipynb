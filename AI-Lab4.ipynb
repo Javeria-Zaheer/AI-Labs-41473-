{
 "cells": [
  {
   "cell_type": "code",
   "execution_count": 9,
   "id": "83f1f14d-f15b-4c0e-b31c-12d59af26738",
   "metadata": {},
   "outputs": [
    {
     "name": "stdout",
     "output_type": "stream",
     "text": [
      "The sum of the list is: 17\n"
     ]
    }
   ],
   "source": [
    "def sum_of_list(numbers):\n",
    "    return sum(numbers)\n",
    "\n",
    "list = [7, 5, 3, 0, 2]\n",
    "ans = sum_of_list(list)\n",
    "print(\"The sum of the list is:\", ans)"
   ]
  },
  {
   "cell_type": "code",
   "execution_count": 47,
   "id": "0499442e-061f-452c-9c44-cd36b62227dc",
   "metadata": {},
   "outputs": [
    {
     "name": "stdout",
     "output_type": "stream",
     "text": [
      "So the Roll No  41478\n",
      " is:  Present\n"
     ]
    }
   ],
   "source": [
    "def attendance(rollNo, present_rollNo):\n",
    "\n",
    "    if present_rollNo in rollNo:\n",
    "        return \"Present\"\n",
    "    else:\n",
    "        return \"Absent\"\n",
    "\n",
    "rollNos = [4148, 41578, 41478, 41598, 41298]\n",
    "a = 41478\n",
    "attendance_status = attendance(rollNos, roll_to_check)\n",
    "\n",
    "print(\"So the Roll No \" ,(a) )\n",
    "print (\" is: \", attendance_status)\n"
   ]
  },
  {
   "cell_type": "code",
   "execution_count": 9,
   "id": "6a484b6c-323e-410f-80be-120130f045ac",
   "metadata": {},
   "outputs": [
    {
     "name": "stdout",
     "output_type": "stream",
     "text": [
      "Starting Info:\n",
      "Name: Zainab, Roll Number: 414758, Age: 20\n",
      " Updated Info: \n",
      "Name: Fatima, Roll Number: 58795, Age: 23\n"
     ]
    }
   ],
   "source": [
    "class Student:\n",
    "    def __init__(self, name, roll_number, age):\n",
    "        self.name = name\n",
    "        self.roll_number = roll_number\n",
    "        self.age = age\n",
    "\n",
    "    def display_info(self):\n",
    "        return \"Name: \" + self.name + \", Roll Number: \" + str(self.roll_number) + \", Age: \" + str(self.age)\n",
    "\n",
    "\n",
    "student1 = Student(\"Zainab\", 414758, 20)\n",
    "\n",
    "\n",
    "print(\"Starting Info:\")\n",
    "print(student1.display_info())\n",
    "\n",
    "\n",
    "student1.name = \"Fatima\"\n",
    "student1.roll_number = 58795\n",
    "student1.age = 23\n",
    "\n",
    "print(\" Updated Info: \")\n",
    "print(student1.display_info())\n"
   ]
  },
  {
   "cell_type": "code",
   "execution_count": 1,
   "id": "d102fab0-5986-4470-8288-d80a24dcc471",
   "metadata": {},
   "outputs": [
    {
     "name": "stdout",
     "output_type": "stream",
     "text": [
      "Name: Zainab, Roll Number: 41101, Age: 20\n",
      "Name: Alisha, Roll Number: 411589, Age: 21\n",
      "Name: Fatima, Roll Number: 41103, Age: 22\n"
     ]
    }
   ],
   "source": [
    "class Student:\n",
    "    def __init__(self, name, roll_number, age):\n",
    "        self.name = name\n",
    "        self.roll_number = roll_number\n",
    "        self.age = age\n",
    "\n",
    "    def display_info(self):\n",
    "        return \"Name: \" + self.name + \", Roll Number: \" + str(self.roll_number) + \", Age: \" + str(self.age)\n",
    "\n",
    "\n",
    "student1 = Student(\"Zainab\", 41101, 20)\n",
    "student2 = Student(\"Alisha\", 411589, 21)\n",
    "student3 = Student(\"Fatima\", 41103, 22)\n",
    "\n",
    "\n",
    "students = [student1, student2, student3]\n",
    "\n",
    "for student in students:\n",
    "    print(student.display_info())\n"
   ]
  },
  {
   "cell_type": "code",
   "execution_count": 8,
   "id": "cb3fab33-09bc-43d4-82e4-a0be16f39fdb",
   "metadata": {},
   "outputs": [
    {
     "name": "stdout",
     "output_type": "stream",
     "text": [
      "Name: Ayesha, Age: 21, Average Score: 68.40\n",
      "Name: Ammara, Age: 19, Average Score: 72.80\n"
     ]
    }
   ],
   "source": [
    "class Student:\n",
    "    def __init__(self, full_name, years_old, scores):\n",
    "        self.full_name = full_name\n",
    "        self.years_old = years_old\n",
    "        self.scores = scores\n",
    "\n",
    "    def average_score(self):\n",
    "        if self.scores:\n",
    "            return sum(self.scores) / len(self.scores)\n",
    "        return 0  \n",
    "\n",
    "    def details(self):\n",
    "        return \"Name: \" + self.full_name + \", Age: \" + str(self.years_old) + \", Average Score: \" + \"{:.2f}\".format(self.average_score())\n",
    "\n",
    "\n",
    "# Example usage with changed variables and data\n",
    "student1 = Student(\"Ayesha\", 21, [88,2, 92, 84, 76])\n",
    "student2 = Student(\"Ammara\", 19, [90,5, 85, 89, 95])\n",
    "\n",
    "print(student1.details())\n",
    "print(student2.details())\n",
    "\n",
    "\n"
   ]
  },
  {
   "cell_type": "code",
   "execution_count": null,
   "id": "e31056ba-d6f4-40ed-85fd-a18aa7526296",
   "metadata": {},
   "outputs": [],
   "source": []
  }
 ],
 "metadata": {
  "kernelspec": {
   "display_name": "Python 3 (ipykernel)",
   "language": "python",
   "name": "python3"
  },
  "language_info": {
   "codemirror_mode": {
    "name": "ipython",
    "version": 3
   },
   "file_extension": ".py",
   "mimetype": "text/x-python",
   "name": "python",
   "nbconvert_exporter": "python",
   "pygments_lexer": "ipython3",
   "version": "3.12.4"
  }
 },
 "nbformat": 4,
 "nbformat_minor": 5
}
