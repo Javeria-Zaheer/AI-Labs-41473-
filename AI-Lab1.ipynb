{
 "cells": [
  {
   "cell_type": "code",
   "execution_count": 1,
   "id": "190093b6-c235-4d0a-9919-642d0808e764",
   "metadata": {},
   "outputs": [],
   "source": [
    "# Task 1:"
   ]
  },
  {
   "cell_type": "code",
   "execution_count": 2,
   "id": "474bc483-433f-4d1f-9007-a45531d15041",
   "metadata": {},
   "outputs": [
    {
     "name": "stdout",
     "output_type": "stream",
     "text": [
      "Name = 'Javeria'\n",
      "Age =22\n",
      "Address=House No:158, Alnoor Colony\n",
      "Email:45897@students.riphah.edu.pk\n",
      "Age =22\n",
      "CNIC:1568-526875494-4569\n"
     ]
    }
   ],
   "source": [
    "print(\"Name = 'Javeria'\");\n",
    "print(\"Age =22\" );\n",
    "print(\"Address=House No:158, Alnoor Colony\");\n",
    "print(\"Email:45897@students.riphah.edu.pk\");\n",
    "print(\"Age =22\");\n",
    "print(\"CNIC:1568-526875494-4569\");"
   ]
  },
  {
   "cell_type": "code",
   "execution_count": 3,
   "id": "5821cc11-185f-43e3-917e-20d8eaf64975",
   "metadata": {},
   "outputs": [],
   "source": [
    "# Task 2:"
   ]
  },
  {
   "cell_type": "code",
   "execution_count": 7,
   "id": "46e9da6e-7125-4cb2-b0e0-760e2202c5d3",
   "metadata": {},
   "outputs": [
    {
     "name": "stdin",
     "output_type": "stream",
     "text": [
      "Enter your Sap Id: 41473\n",
      "Enter your Name: javeria\n"
     ]
    },
    {
     "name": "stdout",
     "output_type": "stream",
     "text": [
      "41473\n",
      "javeria\n",
      "hey javeria your sap is 41473\n"
     ]
    }
   ],
   "source": [
    "sap = int (input(\"Enter your Sap Id:\"))\n",
    "name = (input(\"Enter your Name:\"))\n",
    "print (sap);\n",
    "print (name);\n",
    "print (\"hey\",name,\"your sap is\",sap);"
   ]
  },
  {
   "cell_type": "code",
   "execution_count": 4,
   "id": "66278cb5-0385-4905-b8c3-d8f0e4daafb4",
   "metadata": {},
   "outputs": [],
   "source": [
    "# Task 3:"
   ]
  },
  {
   "cell_type": "code",
   "execution_count": 8,
   "id": "a9c3e003-ae3a-4234-bb3a-592872c126ef",
   "metadata": {},
   "outputs": [
    {
     "name": "stdout",
     "output_type": "stream",
     "text": [
      "a = 10\n",
      "b = 20\n",
      "now value of a 20\n"
     ]
    }
   ],
   "source": [
    "a=10;\n",
    "b=20;\n",
    "print(\"a =\",a);\n",
    "print(\"b =\",b);\n",
    "a=b;\n",
    "print(\"now value of a\" ,a);\n"
   ]
  },
  {
   "cell_type": "code",
   "execution_count": 5,
   "id": "d57b9f17-f240-43ad-95f4-332c552e7962",
   "metadata": {},
   "outputs": [],
   "source": [
    "# Task 4:"
   ]
  },
  {
   "cell_type": "code",
   "execution_count": 9,
   "id": "6a1b4504-b1b8-48fa-a8e8-a87eccdcf5e5",
   "metadata": {},
   "outputs": [
    {
     "ename": "SyntaxError",
     "evalue": "invalid syntax. Maybe you meant '==' or ':=' instead of '='? (635059486.py, line 2)",
     "output_type": "error",
     "traceback": [
      "\u001b[1;36m  Cell \u001b[1;32mIn[9], line 2\u001b[1;36m\u001b[0m\n\u001b[1;33m    if( msg = 'r' || 'a' || 'm' || 'u' )\u001b[0m\n\u001b[1;37m        ^\u001b[0m\n\u001b[1;31mSyntaxError\u001b[0m\u001b[1;31m:\u001b[0m invalid syntax. Maybe you meant '==' or ':=' instead of '='?\n"
     ]
    }
   ],
   "source": [
    "msg=\"programming language\";\n",
    "if( msg = 'r' || 'a' || 'm' || 'u' )\n",
    "{\n",
    "}\n"
   ]
  },
  {
   "cell_type": "code",
   "execution_count": 6,
   "id": "f7456976-d95a-460e-91f8-9b8d52a5f5da",
   "metadata": {},
   "outputs": [],
   "source": [
    "# Task 5:"
   ]
  },
  {
   "cell_type": "code",
   "execution_count": 10,
   "id": "924a15e2-8afb-4194-a1a9-65371a67c3a9",
   "metadata": {},
   "outputs": [
    {
     "name": "stdout",
     "output_type": "stream",
     "text": [
      "Sum of a and b is: 5\n",
      "Sub of a and b is: 1\n",
      "Divide of a and b is: 1.5\n",
      "Multiplication of a and b is: 6\n"
     ]
    }
   ],
   "source": [
    "from ast import Div\n",
    "a=3;\n",
    "b=2;\n",
    "sum = a+b;\n",
    "print(\"Sum of a and b is:\",sum);\n",
    "sub = a-b;\n",
    "print(\"Sub of a and b is:\",sub);\n",
    "Div=a/b;\n",
    "print(\"Divide of a and b is:\",Div);\n",
    "Mult=a*b;\n",
    "print(\"Multiplication of a and b is:\",Mult);\n"
   ]
  },
  {
   "cell_type": "code",
   "execution_count": null,
   "id": "78ae3a1f-91c8-47c6-b135-811fedfdbd9f",
   "metadata": {},
   "outputs": [],
   "source": []
  }
 ],
 "metadata": {
  "kernelspec": {
   "display_name": "Python 3 (ipykernel)",
   "language": "python",
   "name": "python3"
  },
  "language_info": {
   "codemirror_mode": {
    "name": "ipython",
    "version": 3
   },
   "file_extension": ".py",
   "mimetype": "text/x-python",
   "name": "python",
   "nbconvert_exporter": "python",
   "pygments_lexer": "ipython3",
   "version": "3.12.4"
  }
 },
 "nbformat": 4,
 "nbformat_minor": 5
}
