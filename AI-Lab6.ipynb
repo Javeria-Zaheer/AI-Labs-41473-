{
 "cells": [
  {
   "cell_type": "code",
   "execution_count": 1,
   "id": "c2128bdf-d3b7-4516-a278-ce9ebf6d01ef",
   "metadata": {},
   "outputs": [
    {
     "name": "stdout",
     "output_type": "stream",
     "text": [
      "Initial Room Conditions:  {'A': 1, 'B': 1, 'C': 0, 'D': 1}\n",
      "Vacuum is randomly placed at Location A.\n",
      "Vacuum starts at Location A.\n",
      "Location A is Dirty.\n",
      "Location A has been Cleaned.\n",
      "Location B is Dirty.\n",
      "Location B has been Cleaned.\n",
      "Location C is Clean.\n",
      "Location D is Dirty.\n",
      "Location D has been Cleaned.\n",
      "Environment is Clean.\n",
      "Final Room Conditions:  {'A': 0, 'B': 0, 'C': 0, 'D': 0}\n",
      "Performance Measurement: 3\n"
     ]
    }
   ],
   "source": [
    "import random\n",
    "\n",
    "\n",
    "class Environment(object):\n",
    "    def __init__(self):\n",
    "      \n",
    "        self.locationCondition = {'A': random.randint(0, 1), \n",
    "                                  'B': random.randint(0, 1), \n",
    "                                  'C': random.randint(0, 1), \n",
    "                                  'D': random.randint(0, 1)}\n",
    "\n",
    "class SimpleReflexVacuumAgent(Environment):\n",
    "    def __init__(self, Environment):\n",
    "        print(\"Initial Room Conditions: \", Environment.locationCondition)\n",
    "        Score = 0\n",
    "       \n",
    "        vacuumLocation = random.choice(['A', 'B', 'C', 'D'])\n",
    "        print(f\"Vacuum is randomly placed at Location {vacuumLocation}.\")\n",
    "        \n",
    "       \n",
    "        for room in ['A', 'B', 'C', 'D']:\n",
    "            if room == vacuumLocation:\n",
    "                print(f\"Vacuum starts at Location {room}.\")\n",
    "            print(f\"Location {room} is Dirty.\") if Environment.locationCondition[room] == 1 else print(f\"Location {room} is Clean.\")\n",
    "            \n",
    "            if Environment.locationCondition[room] == 1:\n",
    "                Environment.locationCondition[room] = 0\n",
    "                Score += 1\n",
    "                print(f\"Location {room} has been Cleaned.\")\n",
    "        \n",
    "        print(\"Environment is Clean.\")\n",
    "        print(\"Final Room Conditions: \", Environment.locationCondition)\n",
    "        print(\"Performance Measurement: \" + str(Score))\n",
    "\n",
    "\n",
    "theEnvironment = Environment()\n",
    "theVacuum = SimpleReflexVacuumAgent(theEnvironment)"
   ]
  },
  {
   "cell_type": "code",
   "execution_count": null,
   "id": "e45d6518-b215-46ee-986f-3c08ee8ee85b",
   "metadata": {},
   "outputs": [],
   "source": []
  }
 ],
 "metadata": {
  "kernelspec": {
   "display_name": "Python 3 (ipykernel)",
   "language": "python",
   "name": "python3"
  },
  "language_info": {
   "codemirror_mode": {
    "name": "ipython",
    "version": 3
   },
   "file_extension": ".py",
   "mimetype": "text/x-python",
   "name": "python",
   "nbconvert_exporter": "python",
   "pygments_lexer": "ipython3",
   "version": "3.12.4"
  }
 },
 "nbformat": 4,
 "nbformat_minor": 5
}
