{
 "cells": [
  {
   "cell_type": "code",
   "execution_count": 1,
   "id": "a546aeb1-197f-4031-b4cf-60a7dfe2fd29",
   "metadata": {},
   "outputs": [],
   "source": [
    "# Task 01)"
   ]
  },
  {
   "cell_type": "code",
   "execution_count": 10,
   "id": "a13a3e77-23cb-42b6-be51-57b9f076ec36",
   "metadata": {},
   "outputs": [
    {
     "name": "stdin",
     "output_type": "stream",
     "text": [
      "Enter the number of players:  4\n"
     ]
    },
    {
     "name": "stdout",
     "output_type": "stream",
     "text": [
      "Player 1 gets 7 of Diamonds\n",
      "Player 2 gets 13 of Hearts\n",
      "Player 3 gets 13 of Clubs\n",
      "Player 4 gets 14 of Spades\n",
      "Player 4 wins with 14 of Spades\n"
     ]
    }
   ],
   "source": [
    "import random\n",
    "\n",
    "class CasinoGame:\n",
    "    suits = ['Spades', 'Hearts', 'Diamonds', 'Clubs']\n",
    "    values = list(range(2, 15))\n",
    "\n",
    "    def __init__(self, num_players):\n",
    "        self.players = list(range(1, num_players + 1))\n",
    "        self.cards = [(value, suit) for suit in self.suits for value in self.values]\n",
    "        random.shuffle(self.cards)\n",
    "        self.assigned_cards = {}\n",
    "\n",
    "    def play(self):\n",
    "        for player in self.players:\n",
    "            if self.cards:\n",
    "                card = self.cards.pop()\n",
    "                self.assigned_cards[player] = card\n",
    "                print(\"Player \" + str(player) + \" gets \" + str(card[0]) + \" of \" + card[1])\n",
    "\n",
    "        # Determine the winner\n",
    "        winner = max(self.assigned_cards, key=lambda p: self.assigned_cards[p][0])\n",
    "        winning_card = self.assigned_cards[winner]\n",
    "        print(\"Player \" + str(winner) + \" wins with \" + str(winning_card[0]) + \" of \" + winning_card[1])\n",
    "\n",
    "if __name__ == \"__main__\":\n",
    "    num_players = int(input(\"Enter the number of players: \"))\n",
    "    game = CasinoGame(num_players)\n",
    "    game.play()\n"
   ]
  },
  {
   "cell_type": "code",
   "execution_count": 6,
   "id": "260440a2-595b-4875-99a6-9165b888ed72",
   "metadata": {},
   "outputs": [],
   "source": [
    "# Task 02)"
   ]
  },
  {
   "cell_type": "code",
   "execution_count": 31,
   "id": "29464061-26ac-427b-aaca-7c24d5b8ab3a",
   "metadata": {},
   "outputs": [
    {
     "name": "stdout",
     "output_type": "stream",
     "text": [
      "Goal-Based Agent: Move towards the destination\n"
     ]
    }
   ],
   "source": [
    "class GoalBasedAgent:\n",
    "    def __init__(self, goals):\n",
    "        self.goals = goals\n",
    "\n",
    "    def decide_action(self):\n",
    "        for goal in self.goals:\n",
    "            if goal == \"Reach destination\":\n",
    "                return \"Move towards the destination\"\n",
    "            elif goal == \"Collect item\":\n",
    "                return \"Move towards the item\"\n",
    "        return \"No goal to achieve\"\n",
    "\n",
    "if __name__ == \"__main__\":\n",
    "    goal_agent = GoalBasedAgent(goals=[\"Reach destination\", \"Collect item\"])\n",
    "    print(\"Goal-Based Agent:\", goal_agent.decide_action())\n"
   ]
  },
  {
   "cell_type": "code",
   "execution_count": 29,
   "id": "8badb182-194f-4689-bd3f-611c974cbe3f",
   "metadata": {},
   "outputs": [
    {
     "name": "stdout",
     "output_type": "stream",
     "text": [
      "Model-Based Agent: Go to work\n",
      "Model-Based Agent: Go home\n"
     ]
    }
   ],
   "source": [
    "class ModelBasedAgent:\n",
    "    def __init__(self):\n",
    "        self.state = \"unknown\"\n",
    "        self.model = {\n",
    "            \"at_home\": \"unknown\",\n",
    "            \"at_work\": \"unknown\"\n",
    "        }\n",
    "\n",
    "    def update_state(self, new_state):\n",
    "        self.state = new_state\n",
    "        self.model[self.state] = \"known\"\n",
    "\n",
    "    def decide_action(self):\n",
    "        if self.state == \"at_home\":\n",
    "            return \"Go to work\"\n",
    "        elif self.state == \"at_work\":\n",
    "            return \"Go home\"\n",
    "        else:\n",
    "            return \"Stay away\"\n",
    "\n",
    "if __name__ == \"__main__\":\n",
    "    model_agent = ModelBasedAgent()\n",
    "    model_agent.update_state(\"at_home\")\n",
    "    print(\"Model-Based Agent:\", model_agent.decide_action())\n",
    "    model_agent.update_state(\"at_work\")\n",
    "    print(\"Model-Based Agent:\", model_agent.decide_action())\n"
   ]
  },
  {
   "cell_type": "code",
   "execution_count": 30,
   "id": "93133772-8bd2-482a-b20f-f64f1cff4169",
   "metadata": {},
   "outputs": [
    {
     "name": "stdout",
     "output_type": "stream",
     "text": [
      "Utility-Based Agent: Perform action: eating with utility value: 10\n"
     ]
    }
   ],
   "source": [
    "class UtilityBasedAgent:\n",
    "    def __init__(self):\n",
    "        self.utility_values = {\n",
    "            \"eating\": 10,\n",
    "            \"sleeping\": 8,\n",
    "            \"working\": 5,\n",
    "            \"exercising\": 6\n",
    "        }\n",
    "\n",
    "    def decide_action(self):\n",
    "        action = max(self.utility_values, key=self.utility_values.get)\n",
    "        return f\"Perform action: {action} with utility value: {self.utility_values[action]}\"\n",
    "\n",
    "if __name__ == \"__main__\":\n",
    "    utility_agent = UtilityBasedAgent()\n",
    "    print(\"Utility-Based Agent:\", utility_agent.decide_action())\n"
   ]
  },
  {
   "cell_type": "code",
   "execution_count": null,
   "id": "d4641ff1-e396-4347-8931-15b6d321a55c",
   "metadata": {},
   "outputs": [],
   "source": []
  }
 ],
 "metadata": {
  "kernelspec": {
   "display_name": "Python 3 (ipykernel)",
   "language": "python",
   "name": "python3"
  },
  "language_info": {
   "codemirror_mode": {
    "name": "ipython",
    "version": 3
   },
   "file_extension": ".py",
   "mimetype": "text/x-python",
   "name": "python",
   "nbconvert_exporter": "python",
   "pygments_lexer": "ipython3",
   "version": "3.12.4"
  }
 },
 "nbformat": 4,
 "nbformat_minor": 5
}
